{
 "cells": [
  {
   "cell_type": "markdown",
   "id": "26635c68-fa90-4ad0-ad14-782eaabab449",
   "metadata": {},
   "source": [
    "# TSF Time series fore casting\n",
    "\n",
    "## 4 types of data\n",
    "\n",
    "### Trend -- pdq\n",
    "\n",
    "### seasonality -- PDQ\n",
    "\n",
    "### cyclicity -- when we have recession, war, unpredictable but we know this might happen\n",
    "\n",
    "### random-- noicy data without trend or seasonality\n",
    "\n",
    "\n",
    "\n",
    "### To check whether a data is TSF or Regression data\n",
    "\n",
    "\n",
    "#### We will do Darbin-Watson Test if DWT==2 means regression or regression problem\n",
    "\n",
    "\n",
    "#### If DWT<2 Positity Auto correlation\n",
    "\n",
    "\n",
    "#### If DWT>2 Negative Auto correlation\n",
    "\n"
   ]
  },
  {
   "cell_type": "markdown",
   "id": "627a21dd-e254-4f32-b4b7-3e9b5aa4ab0d",
   "metadata": {},
   "source": [
    "\n",
    "#### Autocorrelation or Serial correlation: A mathematical relation b/w current and previous data"
   ]
  },
  {
   "cell_type": "code",
   "execution_count": 5,
   "id": "d67269aa-e81a-4834-8830-48fcd0cacb9a",
   "metadata": {},
   "outputs": [],
   "source": [
    "# Time series will only apply on stationary data which can be calculated by Augmented deckey fuller test or we can use Rolling techniques\n",
    "\n",
    "# Hypothesis p<0.05 means Stationary \n",
    "# else Non stationary"
   ]
  },
  {
   "cell_type": "code",
   "execution_count": 6,
   "id": "10139cfb-1369-4924-8501-89a09cbf4553",
   "metadata": {},
   "outputs": [],
   "source": [
    "# Measuring the TSF using\n",
    "# 1) MAE mean absolute error\n",
    "# 2) MAPE mean absolute percent error\n",
    "# 3) AIC=2k-ln(L)\n",
    "# L-max (m)\n",
    "# k=pdq(trend-- 3 parameters like p-autoregressive, d- integrated, q-moving avearge)\n",
    "# k=PDQ(parameters like p-autoregressive, d- integrated, q-moving avearge with seasonality)\n"
   ]
  },
  {
   "cell_type": "code",
   "execution_count": 7,
   "id": "fb648ea2-c0b6-450b-a283-2fca7ed22ae6",
   "metadata": {},
   "outputs": [],
   "source": [
    "#  If you know ARIMA 90% work done in TSF\n",
    "\n",
    "# # models\n",
    "# Auto regressive-univariety means only one independet variable or feature for forecast\n",
    "# moving average-univariety\n",
    "# Auto regressive moving average-univariety\n",
    "# Auto regressive integrated moving average-univariety\n",
    "# Seasonal Auto regressive Integrated moving average-univariety\n",
    "# VAR vector autoregressive-univariety\n",
    "# VARIMA vector autoregressive Integrated moving average-univariety\n"
   ]
  },
  {
   "cell_type": "code",
   "execution_count": 8,
   "id": "556852ef-d5fb-4152-813b-dad44baf1c8b",
   "metadata": {},
   "outputs": [],
   "source": [
    "# Facebook phrophet a automation \n",
    "# DL- Dart automation, LSTM long short term memory"
   ]
  },
  {
   "cell_type": "code",
   "execution_count": 9,
   "id": "77ada390-a735-41bc-a3fa-0025cc68b9cd",
   "metadata": {},
   "outputs": [],
   "source": [
    "# 1 -- st autocorrelated or not DWT!=2\n",
    "# 2 -- stationary ADFT- rolling test p<0.05 stationary"
   ]
  },
  {
   "cell_type": "code",
   "execution_count": 10,
   "id": "96e241a3-ce90-441b-8605-0c38de66e52b",
   "metadata": {},
   "outputs": [],
   "source": [
    "# if data is non stationary we need to use LAG formula\n",
    "# again check augmented deckay fuller test to check stationarity"
   ]
  },
  {
   "cell_type": "code",
   "execution_count": 11,
   "id": "d69288a0-dba7-40ee-bf9e-b943b1fc52d7",
   "metadata": {},
   "outputs": [
    {
     "data": {
      "text/plain": [
       "'C:\\\\Users\\\\shett\\\\Documents\\\\TSF'"
      ]
     },
     "execution_count": 11,
     "metadata": {},
     "output_type": "execute_result"
    }
   ],
   "source": [
    "import os\n",
    "os.getcwd()"
   ]
  },
  {
   "cell_type": "code",
   "execution_count": 12,
   "id": "9a17dcf7-ae55-4686-b69d-ab3f4120c434",
   "metadata": {},
   "outputs": [],
   "source": [
    "import numpy as np\n",
    "import pandas as pd\n",
    "import matplotlib.pyplot as plt\n",
    "import seaborn as sns\n",
    "\n",
    "%matplotlib inline \n",
    "\n",
    "# injupyter notebook only this displays \n",
    "# %matplotlib qt-- outside jupyter notebook this will display\n",
    "\n",
    "\n",
    "\n",
    "import datetime\n",
    "\n",
    "\n",
    "import warnings \n",
    "warnings.filterwarnings('ignore')\n",
    "# no warnings\n"
   ]
  },
  {
   "cell_type": "code",
   "execution_count": 13,
   "id": "6044444c-afaf-452f-886a-05010f6ffd24",
   "metadata": {},
   "outputs": [],
   "source": [
    "# Datetime should be in series that to in sequence of order"
   ]
  },
  {
   "cell_type": "code",
   "execution_count": 14,
   "id": "d58997e9-9007-400c-acbc-c3df1f621c5d",
   "metadata": {},
   "outputs": [],
   "source": [
    "dataset=pd.read_csv('AirPassengers.csv')"
   ]
  },
  {
   "cell_type": "code",
   "execution_count": 15,
   "id": "6ec112bb-766a-4601-8dba-7df1b94a9144",
   "metadata": {},
   "outputs": [
    {
     "data": {
      "text/html": [
       "<div>\n",
       "<style scoped>\n",
       "    .dataframe tbody tr th:only-of-type {\n",
       "        vertical-align: middle;\n",
       "    }\n",
       "\n",
       "    .dataframe tbody tr th {\n",
       "        vertical-align: top;\n",
       "    }\n",
       "\n",
       "    .dataframe thead th {\n",
       "        text-align: right;\n",
       "    }\n",
       "</style>\n",
       "<table border=\"1\" class=\"dataframe\">\n",
       "  <thead>\n",
       "    <tr style=\"text-align: right;\">\n",
       "      <th></th>\n",
       "      <th>Month</th>\n",
       "      <th>Passengers</th>\n",
       "    </tr>\n",
       "  </thead>\n",
       "  <tbody>\n",
       "    <tr>\n",
       "      <th>0</th>\n",
       "      <td>1949-01</td>\n",
       "      <td>112</td>\n",
       "    </tr>\n",
       "    <tr>\n",
       "      <th>1</th>\n",
       "      <td>1949-02</td>\n",
       "      <td>118</td>\n",
       "    </tr>\n",
       "    <tr>\n",
       "      <th>2</th>\n",
       "      <td>1949-03</td>\n",
       "      <td>132</td>\n",
       "    </tr>\n",
       "    <tr>\n",
       "      <th>3</th>\n",
       "      <td>1949-04</td>\n",
       "      <td>129</td>\n",
       "    </tr>\n",
       "    <tr>\n",
       "      <th>4</th>\n",
       "      <td>1949-05</td>\n",
       "      <td>121</td>\n",
       "    </tr>\n",
       "  </tbody>\n",
       "</table>\n",
       "</div>"
      ],
      "text/plain": [
       "     Month  Passengers\n",
       "0  1949-01         112\n",
       "1  1949-02         118\n",
       "2  1949-03         132\n",
       "3  1949-04         129\n",
       "4  1949-05         121"
      ]
     },
     "execution_count": 15,
     "metadata": {},
     "output_type": "execute_result"
    }
   ],
   "source": [
    "dataset.head()"
   ]
  },
  {
   "cell_type": "code",
   "execution_count": 16,
   "id": "1cfd2f23-5ee6-41de-a4e6-55f9a95553bb",
   "metadata": {},
   "outputs": [
    {
     "name": "stdout",
     "output_type": "stream",
     "text": [
      "<class 'pandas.core.frame.DataFrame'>\n",
      "RangeIndex: 144 entries, 0 to 143\n",
      "Data columns (total 2 columns):\n",
      " #   Column      Non-Null Count  Dtype \n",
      "---  ------      --------------  ----- \n",
      " 0   Month       144 non-null    object\n",
      " 1   Passengers  144 non-null    int64 \n",
      "dtypes: int64(1), object(1)\n",
      "memory usage: 2.4+ KB\n"
     ]
    }
   ],
   "source": [
    "dataset.info()"
   ]
  },
  {
   "cell_type": "code",
   "execution_count": 17,
   "id": "810ac19d-96e7-4ddf-8b77-18d6b2b0d29e",
   "metadata": {},
   "outputs": [
    {
     "data": {
      "text/plain": [
       "(144, 2)"
      ]
     },
     "execution_count": 17,
     "metadata": {},
     "output_type": "execute_result"
    }
   ],
   "source": [
    "dataset.shape"
   ]
  },
  {
   "cell_type": "code",
   "execution_count": 18,
   "id": "5792313a-966c-4d9c-9543-431c7d330aa9",
   "metadata": {},
   "outputs": [],
   "source": [
    "# in TSF we need atleast 2 columns 1 DateTime and other what you want to predict"
   ]
  },
  {
   "cell_type": "code",
   "execution_count": null,
   "id": "5a3c01b4-f1ec-4f5d-bc08-dd7d3b5f523c",
   "metadata": {},
   "outputs": [],
   "source": [
    "# here we need to forecast for next 3 months of data which is in yellow shadedi"
   ]
  },
  {
   "attachments": {
    "50a55d1c-f913-412f-bb70-909f574bca1b.png": {
     "image/png": "[encoded data removed]"
    }
   },
   "cell_type": "markdown",
   "id": "2eb6a52f-ce1f-47c6-a0db-b80e6c3566f8",
   "metadata": {},
   "source": [
    "![image.png](attachment:50a55d1c-f913-412f-bb70-909f574bca1b.png)"
   ]
  },
  {
   "cell_type": "code",
   "execution_count": 20,
   "id": "9b9f877e-5304-41f7-9859-367fbc828ba8",
   "metadata": {},
   "outputs": [],
   "source": [
    "# Go to make my trip and solve the problem"
   ]
  },
  {
   "cell_type": "code",
   "execution_count": 21,
   "id": "3741887e-c5e0-4dee-abb7-fd0b4b29d1fd",
   "metadata": {},
   "outputs": [],
   "source": [
    "# In TSF there should not be any missing data"
   ]
  },
  {
   "cell_type": "code",
   "execution_count": 22,
   "id": "ff6d5242-7536-4d5c-888d-0e1c95508015",
   "metadata": {},
   "outputs": [
    {
     "data": {
      "text/plain": [
       "Month         0\n",
       "Passengers    0\n",
       "dtype: int64"
      ]
     },
     "execution_count": 22,
     "metadata": {},
     "output_type": "execute_result"
    }
   ],
   "source": [
    "dataset.isnull().sum()"
   ]
  },
  {
   "cell_type": "code",
   "execution_count": 23,
   "id": "72025d1d-82da-4431-94cb-1ec4eba5f329",
   "metadata": {},
   "outputs": [],
   "source": [
    "#  we dont have any missing data\n",
    "#  we need to check there should be sequential data\n",
    "# we need to predict future data"
   ]
  },
  {
   "cell_type": "code",
   "execution_count": 24,
   "id": "c907379c-838b-48a5-87d5-0b7f81b0bb5f",
   "metadata": {},
   "outputs": [
    {
     "name": "stdout",
     "output_type": "stream",
     "text": [
      "<class 'pandas.core.frame.DataFrame'>\n",
      "RangeIndex: 144 entries, 0 to 143\n",
      "Data columns (total 2 columns):\n",
      " #   Column      Non-Null Count  Dtype \n",
      "---  ------      --------------  ----- \n",
      " 0   Month       144 non-null    object\n",
      " 1   Passengers  144 non-null    int64 \n",
      "dtypes: int64(1), object(1)\n",
      "memory usage: 2.4+ KB\n"
     ]
    }
   ],
   "source": [
    "dataset.info()"
   ]
  },
  {
   "cell_type": "code",
   "execution_count": 25,
   "id": "96a112e1-968c-4f58-993e-f61a7b1de816",
   "metadata": {},
   "outputs": [
    {
     "data": {
      "text/html": [
       "<div>\n",
       "<style scoped>\n",
       "    .dataframe tbody tr th:only-of-type {\n",
       "        vertical-align: middle;\n",
       "    }\n",
       "\n",
       "    .dataframe tbody tr th {\n",
       "        vertical-align: top;\n",
       "    }\n",
       "\n",
       "    .dataframe thead th {\n",
       "        text-align: right;\n",
       "    }\n",
       "</style>\n",
       "<table border=\"1\" class=\"dataframe\">\n",
       "  <thead>\n",
       "    <tr style=\"text-align: right;\">\n",
       "      <th></th>\n",
       "      <th>Month</th>\n",
       "      <th>Passengers</th>\n",
       "    </tr>\n",
       "  </thead>\n",
       "  <tbody>\n",
       "    <tr>\n",
       "      <th>0</th>\n",
       "      <td>1949-01</td>\n",
       "      <td>112</td>\n",
       "    </tr>\n",
       "    <tr>\n",
       "      <th>1</th>\n",
       "      <td>1949-02</td>\n",
       "      <td>118</td>\n",
       "    </tr>\n",
       "    <tr>\n",
       "      <th>2</th>\n",
       "      <td>1949-03</td>\n",
       "      <td>132</td>\n",
       "    </tr>\n",
       "    <tr>\n",
       "      <th>3</th>\n",
       "      <td>1949-04</td>\n",
       "      <td>129</td>\n",
       "    </tr>\n",
       "    <tr>\n",
       "      <th>4</th>\n",
       "      <td>1949-05</td>\n",
       "      <td>121</td>\n",
       "    </tr>\n",
       "  </tbody>\n",
       "</table>\n",
       "</div>"
      ],
      "text/plain": [
       "     Month  Passengers\n",
       "0  1949-01         112\n",
       "1  1949-02         118\n",
       "2  1949-03         132\n",
       "3  1949-04         129\n",
       "4  1949-05         121"
      ]
     },
     "execution_count": 25,
     "metadata": {},
     "output_type": "execute_result"
    }
   ],
   "source": [
    "dataset.head()"
   ]
  },
  {
   "cell_type": "code",
   "execution_count": 26,
   "id": "05c138ee-a985-4dd9-9281-b14089e11953",
   "metadata": {},
   "outputs": [],
   "source": [
    "# Datetime format-YYYY-MM\n",
    "# we need to make YYYY-MM-DD"
   ]
  },
  {
   "cell_type": "code",
   "execution_count": 27,
   "id": "d4747e32-01af-4150-a4c4-824d470c4501",
   "metadata": {},
   "outputs": [
    {
     "data": {
      "text/plain": [
       "['Month', 'Passengers']"
      ]
     },
     "execution_count": 27,
     "metadata": {},
     "output_type": "execute_result"
    }
   ],
   "source": [
    "dataset.columns.tolist()"
   ]
  },
  {
   "cell_type": "code",
   "execution_count": 28,
   "id": "12869424-00e7-47e0-9694-05a2db344ae6",
   "metadata": {},
   "outputs": [
    {
     "name": "stdout",
     "output_type": "stream",
     "text": [
      "<class 'pandas.core.frame.DataFrame'>\n",
      "RangeIndex: 144 entries, 0 to 143\n",
      "Data columns (total 2 columns):\n",
      " #   Column      Non-Null Count  Dtype         \n",
      "---  ------      --------------  -----         \n",
      " 0   Month       144 non-null    datetime64[ns]\n",
      " 1   Passengers  144 non-null    int64         \n",
      "dtypes: datetime64[ns](1), int64(1)\n",
      "memory usage: 2.4 KB\n"
     ]
    }
   ],
   "source": [
    "dataset['Month']=pd.to_datetime(dataset['Month'])\n",
    "dataset.info()"
   ]
  },
  {
   "cell_type": "code",
   "execution_count": 29,
   "id": "18acadf7-3181-4d5b-917b-f6733098a666",
   "metadata": {},
   "outputs": [
    {
     "data": {
      "text/html": [
       "<div>\n",
       "<style scoped>\n",
       "    .dataframe tbody tr th:only-of-type {\n",
       "        vertical-align: middle;\n",
       "    }\n",
       "\n",
       "    .dataframe tbody tr th {\n",
       "        vertical-align: top;\n",
       "    }\n",
       "\n",
       "    .dataframe thead th {\n",
       "        text-align: right;\n",
       "    }\n",
       "</style>\n",
       "<table border=\"1\" class=\"dataframe\">\n",
       "  <thead>\n",
       "    <tr style=\"text-align: right;\">\n",
       "      <th></th>\n",
       "      <th>Month</th>\n",
       "      <th>Passengers</th>\n",
       "    </tr>\n",
       "  </thead>\n",
       "  <tbody>\n",
       "    <tr>\n",
       "      <th>0</th>\n",
       "      <td>1949-01-01</td>\n",
       "      <td>112</td>\n",
       "    </tr>\n",
       "    <tr>\n",
       "      <th>1</th>\n",
       "      <td>1949-02-01</td>\n",
       "      <td>118</td>\n",
       "    </tr>\n",
       "    <tr>\n",
       "      <th>2</th>\n",
       "      <td>1949-03-01</td>\n",
       "      <td>132</td>\n",
       "    </tr>\n",
       "    <tr>\n",
       "      <th>3</th>\n",
       "      <td>1949-04-01</td>\n",
       "      <td>129</td>\n",
       "    </tr>\n",
       "    <tr>\n",
       "      <th>4</th>\n",
       "      <td>1949-05-01</td>\n",
       "      <td>121</td>\n",
       "    </tr>\n",
       "  </tbody>\n",
       "</table>\n",
       "</div>"
      ],
      "text/plain": [
       "       Month  Passengers\n",
       "0 1949-01-01         112\n",
       "1 1949-02-01         118\n",
       "2 1949-03-01         132\n",
       "3 1949-04-01         129\n",
       "4 1949-05-01         121"
      ]
     },
     "execution_count": 29,
     "metadata": {},
     "output_type": "execute_result"
    }
   ],
   "source": [
    "dataset.head()"
   ]
  },
  {
   "cell_type": "code",
   "execution_count": 30,
   "id": "46c178b4-90f0-48e6-809b-a91c299dd999",
   "metadata": {},
   "outputs": [],
   "source": [
    "# YYYY-MM-DD\n",
    "# so by default it taken as 1st day of month"
   ]
  },
  {
   "cell_type": "code",
   "execution_count": 31,
   "id": "9b31170c-db92-49be-b2bd-dbfda243d6bc",
   "metadata": {},
   "outputs": [
    {
     "data": {
      "text/html": [
       "<div>\n",
       "<style scoped>\n",
       "    .dataframe tbody tr th:only-of-type {\n",
       "        vertical-align: middle;\n",
       "    }\n",
       "\n",
       "    .dataframe tbody tr th {\n",
       "        vertical-align: top;\n",
       "    }\n",
       "\n",
       "    .dataframe thead th {\n",
       "        text-align: right;\n",
       "    }\n",
       "</style>\n",
       "<table border=\"1\" class=\"dataframe\">\n",
       "  <thead>\n",
       "    <tr style=\"text-align: right;\">\n",
       "      <th></th>\n",
       "      <th>Month</th>\n",
       "      <th>Passengers</th>\n",
       "    </tr>\n",
       "  </thead>\n",
       "  <tbody>\n",
       "    <tr>\n",
       "      <th>0</th>\n",
       "      <td>1949-01-01</td>\n",
       "      <td>112</td>\n",
       "    </tr>\n",
       "    <tr>\n",
       "      <th>1</th>\n",
       "      <td>1949-02-01</td>\n",
       "      <td>118</td>\n",
       "    </tr>\n",
       "    <tr>\n",
       "      <th>2</th>\n",
       "      <td>1949-03-01</td>\n",
       "      <td>132</td>\n",
       "    </tr>\n",
       "    <tr>\n",
       "      <th>3</th>\n",
       "      <td>1949-04-01</td>\n",
       "      <td>129</td>\n",
       "    </tr>\n",
       "    <tr>\n",
       "      <th>4</th>\n",
       "      <td>1949-05-01</td>\n",
       "      <td>121</td>\n",
       "    </tr>\n",
       "  </tbody>\n",
       "</table>\n",
       "</div>"
      ],
      "text/plain": [
       "       Month  Passengers\n",
       "0 1949-01-01         112\n",
       "1 1949-02-01         118\n",
       "2 1949-03-01         132\n",
       "3 1949-04-01         129\n",
       "4 1949-05-01         121"
      ]
     },
     "execution_count": 31,
     "metadata": {},
     "output_type": "execute_result"
    }
   ],
   "source": [
    "dataset.head()"
   ]
  },
  {
   "cell_type": "code",
   "execution_count": 32,
   "id": "68c2d050-3efd-4102-9071-b7f5cf8f0632",
   "metadata": {},
   "outputs": [],
   "source": [
    "# we need to remove index and make datetime as index"
   ]
  },
  {
   "cell_type": "code",
   "execution_count": 33,
   "id": "66eed66a-e6ea-4788-b485-d8697506765e",
   "metadata": {},
   "outputs": [],
   "source": [
    "from numpy import log\n",
    "from pandas import Series\n"
   ]
  },
  {
   "cell_type": "code",
   "execution_count": 34,
   "id": "aad87782-6bea-4f9a-bbf4-33c4ba507015",
   "metadata": {},
   "outputs": [
    {
     "data": {
      "text/html": [
       "<div>\n",
       "<style scoped>\n",
       "    .dataframe tbody tr th:only-of-type {\n",
       "        vertical-align: middle;\n",
       "    }\n",
       "\n",
       "    .dataframe tbody tr th {\n",
       "        vertical-align: top;\n",
       "    }\n",
       "\n",
       "    .dataframe thead th {\n",
       "        text-align: right;\n",
       "    }\n",
       "</style>\n",
       "<table border=\"1\" class=\"dataframe\">\n",
       "  <thead>\n",
       "    <tr style=\"text-align: right;\">\n",
       "      <th></th>\n",
       "      <th>Passengers</th>\n",
       "    </tr>\n",
       "    <tr>\n",
       "      <th>Month</th>\n",
       "      <th></th>\n",
       "    </tr>\n",
       "  </thead>\n",
       "  <tbody>\n",
       "    <tr>\n",
       "      <th>1949-01-01</th>\n",
       "      <td>112</td>\n",
       "    </tr>\n",
       "    <tr>\n",
       "      <th>1949-02-01</th>\n",
       "      <td>118</td>\n",
       "    </tr>\n",
       "    <tr>\n",
       "      <th>1949-03-01</th>\n",
       "      <td>132</td>\n",
       "    </tr>\n",
       "    <tr>\n",
       "      <th>1949-04-01</th>\n",
       "      <td>129</td>\n",
       "    </tr>\n",
       "    <tr>\n",
       "      <th>1949-05-01</th>\n",
       "      <td>121</td>\n",
       "    </tr>\n",
       "  </tbody>\n",
       "</table>\n",
       "</div>"
      ],
      "text/plain": [
       "            Passengers\n",
       "Month                 \n",
       "1949-01-01         112\n",
       "1949-02-01         118\n",
       "1949-03-01         132\n",
       "1949-04-01         129\n",
       "1949-05-01         121"
      ]
     },
     "execution_count": 34,
     "metadata": {},
     "output_type": "execute_result"
    }
   ],
   "source": [
    "dataset.set_index('Month',inplace=True)\n",
    "dataset.head()"
   ]
  },
  {
   "cell_type": "code",
   "execution_count": 35,
   "id": "80e87f7a-8ee0-4627-9a94-78985cec8d73",
   "metadata": {},
   "outputs": [
    {
     "data": {
      "image/png": "[encoded data removed]",
      "text/plain": [
       "<Figure size 640x480 with 1 Axes>"
      ]
     },
     "metadata": {},
     "output_type": "display_data"
    }
   ],
   "source": [
    "dataset.plot()\n",
    "plt.show()"
   ]
  },
  {
   "cell_type": "markdown",
   "id": "0b50d96c-db8d-4710-82a1-b453285ff4ad",
   "metadata": {},
   "source": [
    "# Decomposition: Method used to find components of data like, Trend, Seasonality, Cyclicity, Irregularity"
   ]
  },
  {
   "cell_type": "code",
   "execution_count": 37,
   "id": "68a414d4-ec5a-407d-a36a-6b1bb8ea3105",
   "metadata": {},
   "outputs": [],
   "source": [
    "#  Trend: - There is a trend as we have long term data of 12 years and this is upward trend\n"
   ]
  },
  {
   "cell_type": "code",
   "execution_count": 38,
   "id": "61b44dce-f2c5-42df-bd8e-80710124285a",
   "metadata": {},
   "outputs": [
    {
     "data": {
      "image/png": "[encoded data removed]",
      "text/plain": [
       "<Figure size 640x480 with 4 Axes>"
      ]
     },
     "metadata": {},
     "output_type": "display_data"
    }
   ],
   "source": [
    "from statsmodels.tsa.seasonal import seasonal_decompose \n",
    "decomposition=seasonal_decompose(dataset['Passengers'],period=12)\n",
    "decomposition.plot()\n",
    "plt.show()"
   ]
  },
  {
   "cell_type": "markdown",
   "id": "7a84322a-3e54-4fa1-9c78-513e46860e48",
   "metadata": {},
   "source": [
    "# Resid means residual or error"
   ]
  },
  {
   "cell_type": "code",
   "execution_count": 40,
   "id": "fa884179-3da2-4e38-9218-cb1671a902f3",
   "metadata": {},
   "outputs": [
    {
     "data": {
      "text/plain": [
       "0"
      ]
     },
     "execution_count": 40,
     "metadata": {},
     "output_type": "execute_result"
    }
   ],
   "source": [
    "dataset['Passengers'].isnull().sum()"
   ]
  },
  {
   "cell_type": "code",
   "execution_count": 41,
   "id": "9d999c84-e873-44f2-8e2b-21714eae911c",
   "metadata": {},
   "outputs": [
    {
     "data": {
      "text/plain": [
       "(144, 1)"
      ]
     },
     "execution_count": 41,
     "metadata": {},
     "output_type": "execute_result"
    }
   ],
   "source": [
    "dataset.shape"
   ]
  },
  {
   "cell_type": "code",
   "execution_count": 42,
   "id": "f070e119-8d1e-4e79-bf80-5b6071a60afc",
   "metadata": {},
   "outputs": [
    {
     "data": {
      "text/html": [
       "<div>\n",
       "<style scoped>\n",
       "    .dataframe tbody tr th:only-of-type {\n",
       "        vertical-align: middle;\n",
       "    }\n",
       "\n",
       "    .dataframe tbody tr th {\n",
       "        vertical-align: top;\n",
       "    }\n",
       "\n",
       "    .dataframe thead th {\n",
       "        text-align: right;\n",
       "    }\n",
       "</style>\n",
       "<table border=\"1\" class=\"dataframe\">\n",
       "  <thead>\n",
       "    <tr style=\"text-align: right;\">\n",
       "      <th></th>\n",
       "      <th>Passengers</th>\n",
       "    </tr>\n",
       "    <tr>\n",
       "      <th>Month</th>\n",
       "      <th></th>\n",
       "    </tr>\n",
       "  </thead>\n",
       "  <tbody>\n",
       "    <tr>\n",
       "      <th>1960-08-01</th>\n",
       "      <td>606</td>\n",
       "    </tr>\n",
       "    <tr>\n",
       "      <th>1960-09-01</th>\n",
       "      <td>508</td>\n",
       "    </tr>\n",
       "    <tr>\n",
       "      <th>1960-10-01</th>\n",
       "      <td>461</td>\n",
       "    </tr>\n",
       "    <tr>\n",
       "      <th>1960-11-01</th>\n",
       "      <td>390</td>\n",
       "    </tr>\n",
       "    <tr>\n",
       "      <th>1960-12-01</th>\n",
       "      <td>432</td>\n",
       "    </tr>\n",
       "  </tbody>\n",
       "</table>\n",
       "</div>"
      ],
      "text/plain": [
       "            Passengers\n",
       "Month                 \n",
       "1960-08-01         606\n",
       "1960-09-01         508\n",
       "1960-10-01         461\n",
       "1960-11-01         390\n",
       "1960-12-01         432"
      ]
     },
     "execution_count": 42,
     "metadata": {},
     "output_type": "execute_result"
    }
   ],
   "source": [
    "dataset.tail()"
   ]
  },
  {
   "cell_type": "code",
   "execution_count": 43,
   "id": "ffce673b-9411-4564-930b-cbe9df362e40",
   "metadata": {},
   "outputs": [],
   "source": [
    "# Check auto correlation: by Derbin-watson test"
   ]
  },
  {
   "cell_type": "code",
   "execution_count": 44,
   "id": "9c340ed2-20e3-4b56-abb8-4ef2c0c27d90",
   "metadata": {},
   "outputs": [
    {
     "data": {
      "text/plain": [
       "0.0121527966037621"
      ]
     },
     "execution_count": 44,
     "metadata": {},
     "output_type": "execute_result"
    }
   ],
   "source": [
    "import statsmodels.api as sm\n",
    "sm.stats.durbin_watson(dataset['Passengers'])"
   ]
  },
  {
   "cell_type": "code",
   "execution_count": 45,
   "id": "1ed387b7-feb5-401f-9324-fedfaf8f3ee0",
   "metadata": {},
   "outputs": [],
   "source": [
    "# mearly zero means highly +vely correlated"
   ]
  },
  {
   "cell_type": "code",
   "execution_count": 46,
   "id": "3f248d11-522e-4b77-b6d4-32615a6651cc",
   "metadata": {},
   "outputs": [],
   "source": [
    "# DWT<2 highly +ve\n",
    "# DWT==2 means regression problem\n",
    "# DWT>2 highly -ve"
   ]
  },
  {
   "cell_type": "markdown",
   "id": "4e8e8437-59f0-4429-9283-c2baafde776d",
   "metadata": {},
   "source": [
    "# Check TS is stationary or not\n",
    "\n",
    "### Approach--Augmented deckay fuller test"
   ]
  },
  {
   "cell_type": "code",
   "execution_count": 91,
   "id": "387f44ae-8dfa-405e-a4cf-0a31912dbf0b",
   "metadata": {},
   "outputs": [],
   "source": [
    "from statsmodels.tsa.stattools import adfuller"
   ]
  },
  {
   "cell_type": "code",
   "execution_count": 93,
   "id": "9a3e5a1e-483d-469f-9117-f426c13c4cb0",
   "metadata": {},
   "outputs": [
    {
     "data": {
      "text/plain": [
       "(0.8153688792060511,\n",
       " 0.991880243437641,\n",
       " 13,\n",
       " 130,\n",
       " {'1%': -3.4816817173418295,\n",
       "  '5%': -2.8840418343195267,\n",
       "  '10%': -2.578770059171598},\n",
       " 996.692930839019)"
      ]
     },
     "execution_count": 93,
     "metadata": {},
     "output_type": "execute_result"
    }
   ],
   "source": [
    "adfuller(dataset['Passengers'])"
   ]
  },
  {
   "cell_type": "code",
   "execution_count": 95,
   "id": "e0552e85-99ba-4889-be91-e5d0f33d5e98",
   "metadata": {},
   "outputs": [],
   "source": [
    "def adf_test(timeseries):\n",
    "    result=adfuller(timeseries)\n",
    "    print(\"*****************Augmented deckay fuller test analysis***************\")\n",
    "    labels=['ADF Test','p-value','#Lags','No of jobs']\n",
    "    for a, b in zip(labels,result):\n",
    "        print(a+' : '+str(b))\n",
    "    if result[1]<=0.05:\n",
    "        print(\"Strong evidence againast null hypothesis and my time series is Stationary\")\n",
    "    else:\n",
    "        print(\"Weak evidence againast null hypothesis and my time series is Non-Stationary\")\n",
    "        \n",
    "    \n"
   ]
  },
  {
   "cell_type": "code",
   "execution_count": 97,
   "id": "edb7d2e0-81e7-4642-973d-3bbd35b97996",
   "metadata": {},
   "outputs": [
    {
     "name": "stdout",
     "output_type": "stream",
     "text": [
      "*****************Augmented deckay fuller test analysis***************\n",
      "ADF Test : 0.8153688792060511\n",
      "p-value : 0.991880243437641\n",
      "#Lags : 13\n",
      "No of jobs : 130\n",
      "Weak evidence againast null hypothesis and my time series is Non-Stationary\n"
     ]
    }
   ],
   "source": [
    "adf_test(dataset['Passengers'])"
   ]
  },
  {
   "cell_type": "code",
   "execution_count": 101,
   "id": "21461c56-a28d-4777-9e7e-ffa4a5500391",
   "metadata": {},
   "outputs": [],
   "source": [
    "# Apply Lag approach to make our time series data to stationary\n",
    "\n",
    "dataset['1st Diff']=dataset['Passengers']-dataset['Passengers'].shift(1)"
   ]
  },
  {
   "cell_type": "code",
   "execution_count": 103,
   "id": "7b6cc25e-a59f-4b76-bcba-bb281c240257",
   "metadata": {},
   "outputs": [
    {
     "data": {
      "text/plain": [
       "Month\n",
       "1949-01-01      NaN\n",
       "1949-02-01    112.0\n",
       "1949-03-01    118.0\n",
       "1949-04-01    132.0\n",
       "1949-05-01    129.0\n",
       "              ...  \n",
       "1960-08-01    622.0\n",
       "1960-09-01    606.0\n",
       "1960-10-01    508.0\n",
       "1960-11-01    461.0\n",
       "1960-12-01    390.0\n",
       "Name: Passengers, Length: 144, dtype: float64"
      ]
     },
     "execution_count": 103,
     "metadata": {},
     "output_type": "execute_result"
    }
   ],
   "source": [
    "dataset['Passengers'].shift(1)"
   ]
  },
  {
   "cell_type": "code",
   "execution_count": 105,
   "id": "9a64d50f-6fcc-4cd6-8b7d-90533cd30c01",
   "metadata": {},
   "outputs": [
    {
     "data": {
      "text/plain": [
       "Month\n",
       "1949-01-01     NaN\n",
       "1949-02-01     6.0\n",
       "1949-03-01    14.0\n",
       "1949-04-01    -3.0\n",
       "1949-05-01    -8.0\n",
       "              ... \n",
       "1960-08-01   -16.0\n",
       "1960-09-01   -98.0\n",
       "1960-10-01   -47.0\n",
       "1960-11-01   -71.0\n",
       "1960-12-01    42.0\n",
       "Name: 1st Diff, Length: 144, dtype: float64"
      ]
     },
     "execution_count": 105,
     "metadata": {},
     "output_type": "execute_result"
    }
   ],
   "source": [
    "dataset['1st Diff']"
   ]
  },
  {
   "cell_type": "code",
   "execution_count": 109,
   "id": "7fb6dd50-b734-40a1-92b4-de0861dd38fa",
   "metadata": {},
   "outputs": [
    {
     "data": {
      "text/plain": [
       "Month\n",
       "1949-01-01     NaN\n",
       "1949-02-01     6.0\n",
       "1949-03-01    14.0\n",
       "1949-04-01    -3.0\n",
       "1949-05-01    -8.0\n",
       "1949-06-01    14.0\n",
       "1949-07-01    13.0\n",
       "1949-08-01     0.0\n",
       "1949-09-01   -12.0\n",
       "1949-10-01   -17.0\n",
       "Name: 1st Diff, dtype: float64"
      ]
     },
     "execution_count": 109,
     "metadata": {},
     "output_type": "execute_result"
    }
   ],
   "source": [
    "dataset['1st Diff'].head(10)"
   ]
  },
  {
   "cell_type": "code",
   "execution_count": 111,
   "id": "71fd31a7-51be-43e8-b9dd-798c2c9ad32e",
   "metadata": {},
   "outputs": [
    {
     "data": {
      "text/html": [
       "<div>\n",
       "<style scoped>\n",
       "    .dataframe tbody tr th:only-of-type {\n",
       "        vertical-align: middle;\n",
       "    }\n",
       "\n",
       "    .dataframe tbody tr th {\n",
       "        vertical-align: top;\n",
       "    }\n",
       "\n",
       "    .dataframe thead th {\n",
       "        text-align: right;\n",
       "    }\n",
       "</style>\n",
       "<table border=\"1\" class=\"dataframe\">\n",
       "  <thead>\n",
       "    <tr style=\"text-align: right;\">\n",
       "      <th></th>\n",
       "      <th>Passengers</th>\n",
       "      <th>1st Diff</th>\n",
       "    </tr>\n",
       "    <tr>\n",
       "      <th>Month</th>\n",
       "      <th></th>\n",
       "      <th></th>\n",
       "    </tr>\n",
       "  </thead>\n",
       "  <tbody>\n",
       "    <tr>\n",
       "      <th>1949-01-01</th>\n",
       "      <td>112</td>\n",
       "      <td>NaN</td>\n",
       "    </tr>\n",
       "    <tr>\n",
       "      <th>1949-02-01</th>\n",
       "      <td>118</td>\n",
       "      <td>6.0</td>\n",
       "    </tr>\n",
       "    <tr>\n",
       "      <th>1949-03-01</th>\n",
       "      <td>132</td>\n",
       "      <td>14.0</td>\n",
       "    </tr>\n",
       "    <tr>\n",
       "      <th>1949-04-01</th>\n",
       "      <td>129</td>\n",
       "      <td>-3.0</td>\n",
       "    </tr>\n",
       "    <tr>\n",
       "      <th>1949-05-01</th>\n",
       "      <td>121</td>\n",
       "      <td>-8.0</td>\n",
       "    </tr>\n",
       "  </tbody>\n",
       "</table>\n",
       "</div>"
      ],
      "text/plain": [
       "            Passengers  1st Diff\n",
       "Month                           \n",
       "1949-01-01         112       NaN\n",
       "1949-02-01         118       6.0\n",
       "1949-03-01         132      14.0\n",
       "1949-04-01         129      -3.0\n",
       "1949-05-01         121      -8.0"
      ]
     },
     "execution_count": 111,
     "metadata": {},
     "output_type": "execute_result"
    }
   ],
   "source": [
    "dataset.head()"
   ]
  },
  {
   "cell_type": "code",
   "execution_count": 135,
   "id": "cde0f2cf-bae7-4704-bb85-4786e60a3a2c",
   "metadata": {},
   "outputs": [
    {
     "name": "stdout",
     "output_type": "stream",
     "text": [
      "*****************Augmented deckay fuller test analysis***************\n",
      "ADF Test : -2.8292668241699874\n",
      "p-value : 0.05421329028382711\n",
      "#Lags : 12\n",
      "No of jobs : 130\n",
      "Weak evidence againast null hypothesis and my time series is Non-Stationary\n"
     ]
    }
   ],
   "source": [
    "adf_test(dataset['1st Diff'].dropna())"
   ]
  },
  {
   "cell_type": "code",
   "execution_count": 119,
   "id": "85ccc287-61de-42d2-8544-65c76efc8f2e",
   "metadata": {},
   "outputs": [],
   "source": [
    "# Weak evidence againast null hypothesis and my time series is Non-Stationary"
   ]
  },
  {
   "cell_type": "code",
   "execution_count": 123,
   "id": "5937d73a-75c2-40b8-bd36-2a36c7d52202",
   "metadata": {},
   "outputs": [
    {
     "data": {
      "text/html": [
       "<div>\n",
       "<style scoped>\n",
       "    .dataframe tbody tr th:only-of-type {\n",
       "        vertical-align: middle;\n",
       "    }\n",
       "\n",
       "    .dataframe tbody tr th {\n",
       "        vertical-align: top;\n",
       "    }\n",
       "\n",
       "    .dataframe thead th {\n",
       "        text-align: right;\n",
       "    }\n",
       "</style>\n",
       "<table border=\"1\" class=\"dataframe\">\n",
       "  <thead>\n",
       "    <tr style=\"text-align: right;\">\n",
       "      <th></th>\n",
       "      <th>Passengers</th>\n",
       "      <th>1st Diff</th>\n",
       "    </tr>\n",
       "    <tr>\n",
       "      <th>Month</th>\n",
       "      <th></th>\n",
       "      <th></th>\n",
       "    </tr>\n",
       "  </thead>\n",
       "  <tbody>\n",
       "    <tr>\n",
       "      <th>1960-08-01</th>\n",
       "      <td>606</td>\n",
       "      <td>-16.0</td>\n",
       "    </tr>\n",
       "    <tr>\n",
       "      <th>1960-09-01</th>\n",
       "      <td>508</td>\n",
       "      <td>-98.0</td>\n",
       "    </tr>\n",
       "    <tr>\n",
       "      <th>1960-10-01</th>\n",
       "      <td>461</td>\n",
       "      <td>-47.0</td>\n",
       "    </tr>\n",
       "    <tr>\n",
       "      <th>1960-11-01</th>\n",
       "      <td>390</td>\n",
       "      <td>-71.0</td>\n",
       "    </tr>\n",
       "    <tr>\n",
       "      <th>1960-12-01</th>\n",
       "      <td>432</td>\n",
       "      <td>42.0</td>\n",
       "    </tr>\n",
       "  </tbody>\n",
       "</table>\n",
       "</div>"
      ],
      "text/plain": [
       "            Passengers  1st Diff\n",
       "Month                           \n",
       "1960-08-01         606     -16.0\n",
       "1960-09-01         508     -98.0\n",
       "1960-10-01         461     -47.0\n",
       "1960-11-01         390     -71.0\n",
       "1960-12-01         432      42.0"
      ]
     },
     "execution_count": 123,
     "metadata": {},
     "output_type": "execute_result"
    }
   ],
   "source": [
    "dataset.tail()"
   ]
  },
  {
   "cell_type": "code",
   "execution_count": 125,
   "id": "41a38d4e-34ca-42a2-a20d-4314edde7eba",
   "metadata": {},
   "outputs": [],
   "source": [
    "dataset['2st Diff']=dataset['1st Diff']-dataset['1st Diff'].shift(1)"
   ]
  },
  {
   "cell_type": "code",
   "execution_count": 127,
   "id": "23b5ec1f-50d7-46ff-8ea5-bc1e9b4aece4",
   "metadata": {},
   "outputs": [
    {
     "data": {
      "text/plain": [
       "Month\n",
       "1949-01-01     NaN\n",
       "1949-02-01     NaN\n",
       "1949-03-01     6.0\n",
       "1949-04-01    14.0\n",
       "1949-05-01    -3.0\n",
       "              ... \n",
       "1960-08-01    87.0\n",
       "1960-09-01   -16.0\n",
       "1960-10-01   -98.0\n",
       "1960-11-01   -47.0\n",
       "1960-12-01   -71.0\n",
       "Name: 1st Diff, Length: 144, dtype: float64"
      ]
     },
     "execution_count": 127,
     "metadata": {},
     "output_type": "execute_result"
    }
   ],
   "source": [
    "dataset['1st Diff'].shift(1)"
   ]
  },
  {
   "cell_type": "code",
   "execution_count": 133,
   "id": "95709396-9ad4-41f8-baf6-ac51359f478f",
   "metadata": {},
   "outputs": [
    {
     "name": "stdout",
     "output_type": "stream",
     "text": [
      "*****************Augmented deckay fuller test analysis***************\n",
      "ADF Test : -16.384231542468523\n",
      "p-value : 2.7328918500141235e-29\n",
      "#Lags : 11\n",
      "No of jobs : 130\n",
      "Strong evidence againast null hypothesis and my time series is Stationary\n"
     ]
    }
   ],
   "source": [
    "adf_test(dataset['2st Diff'].dropna())"
   ]
  },
  {
   "cell_type": "code",
   "execution_count": 139,
   "id": "c587a2c1-d371-4088-ae71-67cd00b822ae",
   "metadata": {},
   "outputs": [],
   "source": [
    "# Strong evidence againast null hypothesis and my time series is Stationary"
   ]
  },
  {
   "cell_type": "code",
   "execution_count": 141,
   "id": "ea4a18b5-bd8b-420b-82ff-fdc1ffcacbb9",
   "metadata": {},
   "outputs": [],
   "source": [
    "# AIC--Aikike information criteria\n",
    "\n",
    "# parameter(k)=trend(pdq) and seasonality(PDQ)\n",
    "# difference= integrated method: d=2\n",
    "# Seasonality: D=? difference b/w jan 2023-jan 2022 like wise 12 month here seasonality\n",
    "dataset['Seasonality']=dataset['Passengers']-dataset['Passengers'].shift(12)"
   ]
  },
  {
   "cell_type": "code",
   "execution_count": 145,
   "id": "0e5a0ede-a089-46b6-8ef6-9f28c482291e",
   "metadata": {},
   "outputs": [
    {
     "data": {
      "text/html": [
       "<div>\n",
       "<style scoped>\n",
       "    .dataframe tbody tr th:only-of-type {\n",
       "        vertical-align: middle;\n",
       "    }\n",
       "\n",
       "    .dataframe tbody tr th {\n",
       "        vertical-align: top;\n",
       "    }\n",
       "\n",
       "    .dataframe thead th {\n",
       "        text-align: right;\n",
       "    }\n",
       "</style>\n",
       "<table border=\"1\" class=\"dataframe\">\n",
       "  <thead>\n",
       "    <tr style=\"text-align: right;\">\n",
       "      <th></th>\n",
       "      <th>Passengers</th>\n",
       "      <th>1st Diff</th>\n",
       "      <th>2st Diff</th>\n",
       "      <th>Seasonality</th>\n",
       "    </tr>\n",
       "    <tr>\n",
       "      <th>Month</th>\n",
       "      <th></th>\n",
       "      <th></th>\n",
       "      <th></th>\n",
       "      <th></th>\n",
       "    </tr>\n",
       "  </thead>\n",
       "  <tbody>\n",
       "    <tr>\n",
       "      <th>1949-01-01</th>\n",
       "      <td>112</td>\n",
       "      <td>NaN</td>\n",
       "      <td>NaN</td>\n",
       "      <td>NaN</td>\n",
       "    </tr>\n",
       "    <tr>\n",
       "      <th>1949-02-01</th>\n",
       "      <td>118</td>\n",
       "      <td>6.0</td>\n",
       "      <td>NaN</td>\n",
       "      <td>NaN</td>\n",
       "    </tr>\n",
       "    <tr>\n",
       "      <th>1949-03-01</th>\n",
       "      <td>132</td>\n",
       "      <td>14.0</td>\n",
       "      <td>8.0</td>\n",
       "      <td>NaN</td>\n",
       "    </tr>\n",
       "    <tr>\n",
       "      <th>1949-04-01</th>\n",
       "      <td>129</td>\n",
       "      <td>-3.0</td>\n",
       "      <td>-17.0</td>\n",
       "      <td>NaN</td>\n",
       "    </tr>\n",
       "    <tr>\n",
       "      <th>1949-05-01</th>\n",
       "      <td>121</td>\n",
       "      <td>-8.0</td>\n",
       "      <td>-5.0</td>\n",
       "      <td>NaN</td>\n",
       "    </tr>\n",
       "    <tr>\n",
       "      <th>...</th>\n",
       "      <td>...</td>\n",
       "      <td>...</td>\n",
       "      <td>...</td>\n",
       "      <td>...</td>\n",
       "    </tr>\n",
       "    <tr>\n",
       "      <th>1960-08-01</th>\n",
       "      <td>606</td>\n",
       "      <td>-16.0</td>\n",
       "      <td>-103.0</td>\n",
       "      <td>47.0</td>\n",
       "    </tr>\n",
       "    <tr>\n",
       "      <th>1960-09-01</th>\n",
       "      <td>508</td>\n",
       "      <td>-98.0</td>\n",
       "      <td>-82.0</td>\n",
       "      <td>45.0</td>\n",
       "    </tr>\n",
       "    <tr>\n",
       "      <th>1960-10-01</th>\n",
       "      <td>461</td>\n",
       "      <td>-47.0</td>\n",
       "      <td>51.0</td>\n",
       "      <td>54.0</td>\n",
       "    </tr>\n",
       "    <tr>\n",
       "      <th>1960-11-01</th>\n",
       "      <td>390</td>\n",
       "      <td>-71.0</td>\n",
       "      <td>-24.0</td>\n",
       "      <td>28.0</td>\n",
       "    </tr>\n",
       "    <tr>\n",
       "      <th>1960-12-01</th>\n",
       "      <td>432</td>\n",
       "      <td>42.0</td>\n",
       "      <td>113.0</td>\n",
       "      <td>27.0</td>\n",
       "    </tr>\n",
       "  </tbody>\n",
       "</table>\n",
       "<p>144 rows × 4 columns</p>\n",
       "</div>"
      ],
      "text/plain": [
       "            Passengers  1st Diff  2st Diff  Seasonality\n",
       "Month                                                  \n",
       "1949-01-01         112       NaN       NaN          NaN\n",
       "1949-02-01         118       6.0       NaN          NaN\n",
       "1949-03-01         132      14.0       8.0          NaN\n",
       "1949-04-01         129      -3.0     -17.0          NaN\n",
       "1949-05-01         121      -8.0      -5.0          NaN\n",
       "...                ...       ...       ...          ...\n",
       "1960-08-01         606     -16.0    -103.0         47.0\n",
       "1960-09-01         508     -98.0     -82.0         45.0\n",
       "1960-10-01         461     -47.0      51.0         54.0\n",
       "1960-11-01         390     -71.0     -24.0         28.0\n",
       "1960-12-01         432      42.0     113.0         27.0\n",
       "\n",
       "[144 rows x 4 columns]"
      ]
     },
     "execution_count": 145,
     "metadata": {},
     "output_type": "execute_result"
    }
   ],
   "source": [
    "dataset"
   ]
  },
  {
   "cell_type": "code",
   "execution_count": 149,
   "id": "b565cedd-952f-4330-a6ff-5e9115c4f665",
   "metadata": {},
   "outputs": [
    {
     "name": "stdout",
     "output_type": "stream",
     "text": [
      "*****************Augmented deckay fuller test analysis***************\n",
      "ADF Test : -3.3830207264924796\n",
      "p-value : 0.011551493085515008\n",
      "#Lags : 1\n",
      "No of jobs : 130\n",
      "Strong evidence againast null hypothesis and my time series is Stationary\n"
     ]
    }
   ],
   "source": [
    "adf_test(dataset['Seasonality'].dropna())"
   ]
  },
  {
   "cell_type": "code",
   "execution_count": 151,
   "id": "34083147-e80a-41d3-9eef-51aa20131b8c",
   "metadata": {},
   "outputs": [],
   "source": [
    "# d=2 two times difference we did\n",
    "# D=1 here we did only 1s difference\n",
    "\n",
    "# ARIMA--AutoRegressive Integrated(d and D) Moving Average\n",
    "# Integrated value d=2 and D=1\n",
    "\n",
    "# Auto Regressive: q=? and Q=?(Autocorrelation)\n",
    "\n",
    "# Moving Average: p=? and P=?(Partial autocorrelation)\n"
   ]
  },
  {
   "cell_type": "code",
   "execution_count": 153,
   "id": "f69da44c-4088-47d6-8ae4-bb726305baa9",
   "metadata": {},
   "outputs": [],
   "source": [
    "# 19 completed"
   ]
  },
  {
   "cell_type": "code",
   "execution_count": null,
   "id": "8ab99d9b-5642-46a5-ad53-76ac2061ae26",
   "metadata": {},
   "outputs": [],
   "source": []
  }
 ],
 "metadata": {
  "kernelspec": {
   "display_name": "Python [conda env:base] *",
   "language": "python",
   "name": "conda-base-py"
  },
  "language_info": {
   "codemirror_mode": {
    "name": "ipython",
    "version": 3
   },
   "file_extension": ".py",
   "mimetype": "text/x-python",
   "name": "python",
   "nbconvert_exporter": "python",
   "pygments_lexer": "ipython3",
   "version": "3.12.7"
  }
 },
 "nbformat": 4,
 "nbformat_minor": 5
}
